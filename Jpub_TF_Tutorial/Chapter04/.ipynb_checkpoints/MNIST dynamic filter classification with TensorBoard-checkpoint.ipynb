{
 "cells": [
  {
   "cell_type": "markdown",
   "metadata": {},
   "source": [
    "**[MDT-01]** 필요한 모듈을 임포트하고 난수의 시드를 설정한다."
   ]
  },
  {
   "cell_type": "code",
   "execution_count": 1,
   "metadata": {
    "collapsed": true
   },
   "outputs": [],
   "source": [
    "import tensorflow as tf\n",
    "import numpy as np\n",
    "import matplotlib.pyplot as plt\n",
    "from tensorflow.examples.tutorials.mnist import input_data\n",
    "\n",
    "np.random.seed(20160703)\n",
    "tf.set_random_seed(20160703)"
   ]
  },
  {
   "cell_type": "markdown",
   "metadata": {},
   "source": [
    "**[MDT-02]** MNIST 데이터 세트를 준비한다."
   ]
  },
  {
   "cell_type": "code",
   "execution_count": 2,
   "metadata": {},
   "outputs": [
    {
     "name": "stdout",
     "output_type": "stream",
     "text": [
      "Extracting /tmp/data/train-images-idx3-ubyte.gz\n",
      "Extracting /tmp/data/train-labels-idx1-ubyte.gz\n",
      "Extracting /tmp/data/t10k-images-idx3-ubyte.gz\n",
      "Extracting /tmp/data/t10k-labels-idx1-ubyte.gz\n"
     ]
    }
   ],
   "source": [
    "mnist = input_data.read_data_sets(\"/tmp/data/\", one_hot=True)"
   ]
  },
  {
   "cell_type": "markdown",
   "metadata": {},
   "source": [
    "**[MDT-03]** 합성곱 필터가 한 계층인 CNN을 표현하는 클래스를 정의한다."
   ]
  },
  {
   "cell_type": "code",
   "execution_count": 6,
   "metadata": {
    "collapsed": true
   },
   "outputs": [],
   "source": [
    "class SingleCNN:\n",
    "    def __init__(self, num_filters, num_units):\n",
    "        with tf.Graph().as_default():\n",
    "            self.prepare_model(num_filters, num_units)\n",
    "            self.prepare_session()\n",
    "\n",
    "    def prepare_model(self, num_filters, num_units):\n",
    "        num_units1 = 14*14*num_filters\n",
    "        num_units2 = num_units\n",
    "        \n",
    "        with tf.name_scope('input'):\n",
    "            x = tf.placeholder(tf.float32, [None, 784], name='input')\n",
    "            x_image = tf.reshape(x, [-1,28,28,1])\n",
    "\n",
    "        with tf.name_scope('convolution'):\n",
    "            W_conv = tf.Variable(\n",
    "                tf.truncated_normal([5,5,1,num_filters], stddev=0.1),\n",
    "                name='conv-filter')\n",
    "            h_conv = tf.nn.conv2d(\n",
    "                x_image, W_conv, strides=[1,1,1,1], padding='SAME',\n",
    "                name='filter-output')\n",
    "\n",
    "        with tf.name_scope('pooling'):            \n",
    "            h_pool =tf.nn.max_pool(h_conv, ksize=[1,2,2,1],\n",
    "                                   strides=[1,2,2,1], padding='SAME',\n",
    "                                   name='max-pool')\n",
    "            h_pool_flat = tf.reshape(h_pool, [-1, 14*14*num_filters],\n",
    "                                     name='pool-output')\n",
    "\n",
    "        with tf.name_scope('fully-connected'):\n",
    "            w2 = tf.Variable(tf.truncated_normal([num_units1, num_units2]))\n",
    "            b2 = tf.Variable(tf.zeros([num_units2]))\n",
    "            hidden2 = tf.nn.relu(tf.matmul(h_pool_flat, w2) + b2,\n",
    "                                 name='fc-output')\n",
    "\n",
    "        with tf.name_scope('softmax'):\n",
    "            w0 = tf.Variable(tf.zeros([num_units2, 10]))\n",
    "            b0 = tf.Variable(tf.zeros([10]))\n",
    "            p = tf.nn.softmax(tf.matmul(hidden2, w0) + b0,\n",
    "                              name='softmax-output')\n",
    "            \n",
    "        with tf.name_scope('optimizer'):\n",
    "            t = tf.placeholder(tf.float32, [None, 10], name='labels')\n",
    "            loss = -tf.reduce_sum(t * tf.log(p), name='loss')\n",
    "            train_step = tf.train.AdamOptimizer(0.0005).minimize(loss)\n",
    "            \n",
    "        with tf.name_scope('evaluator'):\n",
    "            correct_prediction = tf.equal(tf.argmax(p, 1), tf.argmax(t, 1))\n",
    "            accuracy = tf.reduce_mean(tf.cast(correct_prediction,\n",
    "                                              tf.float32), name='accuracy')\n",
    "            \n",
    "        tf.summary.scalar(\"loss\", loss)\n",
    "        tf.summary.scalar(\"accuracy\", accuracy)\n",
    "        tf.summary.histogram(\"convolution_filters\", W_conv)\n",
    "        \n",
    "        self.x, self.t, self.p = x, t, p\n",
    "        self.train_step = train_step\n",
    "        self.loss = loss\n",
    "        self.accuracy = accuracy\n",
    "        \n",
    "    def prepare_session(self):\n",
    "        sess = tf.InteractiveSession()\n",
    "        sess.run(tf.global_variables_initializer())\n",
    "        summary = tf.summary.merge_all()\n",
    "        writer = tf.summary.FileWriter(\"/tmp/mnist_df_logs\", sess.graph)\n",
    "        \n",
    "        self.sess = sess\n",
    "        self.summary = summary\n",
    "        self.writer = writer"
   ]
  },
  {
   "cell_type": "markdown",
   "metadata": {},
   "source": [
    "**[MDT-04]** 텐서보드용 데이터 출력 디렉토리를 삭제해서 초기화해둔다."
   ]
  },
  {
   "cell_type": "code",
   "execution_count": 4,
   "metadata": {
    "collapsed": true
   },
   "outputs": [],
   "source": [
    "!rm -rf /tmp/mnist_df_logs"
   ]
  },
  {
   "cell_type": "markdown",
   "metadata": {},
   "source": [
    "**[MDT-05]** 파라미터 최적화를 4000회 반복한다. 테스트 세트에 대해 약 98%의 정답률을 얻을 수 있다."
   ]
  },
  {
   "cell_type": "code",
   "execution_count": 7,
   "metadata": {},
   "outputs": [
    {
     "name": "stdout",
     "output_type": "stream",
     "text": [
      "Step: 50, Loss: 2736.897705, Accuracy: 0.919500\n",
      "Step: 100, Loss: 2164.424072, Accuracy: 0.935200\n",
      "Step: 150, Loss: 1769.321655, Accuracy: 0.949600\n",
      "Step: 200, Loss: 1660.775879, Accuracy: 0.949400\n",
      "Step: 250, Loss: 1408.516602, Accuracy: 0.958300\n",
      "Step: 300, Loss: 1353.576050, Accuracy: 0.959200\n",
      "Step: 350, Loss: 1199.460449, Accuracy: 0.961700\n",
      "Step: 400, Loss: 1069.255371, Accuracy: 0.966900\n",
      "Step: 450, Loss: 1136.472412, Accuracy: 0.964300\n",
      "Step: 500, Loss: 1077.772217, Accuracy: 0.966100\n",
      "Step: 550, Loss: 1025.561279, Accuracy: 0.968100\n",
      "Step: 600, Loss: 938.527771, Accuracy: 0.968900\n",
      "Step: 650, Loss: 779.689026, Accuracy: 0.976300\n",
      "Step: 700, Loss: 907.011841, Accuracy: 0.974000\n",
      "Step: 750, Loss: 893.145691, Accuracy: 0.974200\n",
      "Step: 800, Loss: 845.655334, Accuracy: 0.972700\n",
      "Step: 850, Loss: 749.799072, Accuracy: 0.977200\n",
      "Step: 900, Loss: 801.710205, Accuracy: 0.974700\n",
      "Step: 950, Loss: 773.761230, Accuracy: 0.975700\n",
      "Step: 1000, Loss: 799.188965, Accuracy: 0.975500\n",
      "Step: 1050, Loss: 762.903320, Accuracy: 0.975700\n",
      "Step: 1100, Loss: 734.239014, Accuracy: 0.976200\n",
      "Step: 1150, Loss: 694.788696, Accuracy: 0.977700\n",
      "Step: 1200, Loss: 766.087891, Accuracy: 0.975200\n",
      "Step: 1250, Loss: 622.692505, Accuracy: 0.980200\n",
      "Step: 1300, Loss: 913.322754, Accuracy: 0.973100\n",
      "Step: 1350, Loss: 766.951050, Accuracy: 0.976100\n",
      "Step: 1400, Loss: 699.033142, Accuracy: 0.977700\n",
      "Step: 1450, Loss: 642.958435, Accuracy: 0.978800\n",
      "Step: 1500, Loss: 602.836304, Accuracy: 0.980700\n",
      "Step: 1550, Loss: 642.243286, Accuracy: 0.980100\n",
      "Step: 1600, Loss: 695.678467, Accuracy: 0.979900\n",
      "Step: 1650, Loss: 744.942871, Accuracy: 0.976000\n",
      "Step: 1700, Loss: 623.379883, Accuracy: 0.979800\n",
      "Step: 1750, Loss: 636.496887, Accuracy: 0.981200\n",
      "Step: 1800, Loss: 572.552368, Accuracy: 0.982500\n",
      "Step: 1850, Loss: 607.027588, Accuracy: 0.980900\n",
      "Step: 1900, Loss: 711.111084, Accuracy: 0.979400\n",
      "Step: 1950, Loss: 568.864502, Accuracy: 0.983400\n",
      "Step: 2000, Loss: 596.597900, Accuracy: 0.981200\n",
      "Step: 2050, Loss: 702.899231, Accuracy: 0.977600\n",
      "Step: 2100, Loss: 632.547913, Accuracy: 0.980900\n",
      "Step: 2150, Loss: 704.965515, Accuracy: 0.980000\n",
      "Step: 2200, Loss: 586.710510, Accuracy: 0.982500\n",
      "Step: 2250, Loss: 549.678101, Accuracy: 0.983800\n",
      "Step: 2300, Loss: 601.557495, Accuracy: 0.981900\n",
      "Step: 2350, Loss: 575.519897, Accuracy: 0.983200\n",
      "Step: 2400, Loss: 577.889404, Accuracy: 0.981500\n",
      "Step: 2450, Loss: 696.595642, Accuracy: 0.978600\n",
      "Step: 2500, Loss: 609.276733, Accuracy: 0.981600\n",
      "Step: 2550, Loss: 621.109497, Accuracy: 0.981300\n",
      "Step: 2600, Loss: 533.386841, Accuracy: 0.983000\n",
      "Step: 2650, Loss: 764.168945, Accuracy: 0.977600\n",
      "Step: 2700, Loss: 660.058472, Accuracy: 0.980200\n",
      "Step: 2750, Loss: 660.200012, Accuracy: 0.980700\n",
      "Step: 2800, Loss: 600.478149, Accuracy: 0.982500\n",
      "Step: 2850, Loss: 575.794189, Accuracy: 0.981700\n",
      "Step: 2900, Loss: 570.222595, Accuracy: 0.983400\n",
      "Step: 2950, Loss: 576.492310, Accuracy: 0.982000\n",
      "Step: 3000, Loss: 547.843811, Accuracy: 0.983500\n",
      "Step: 3050, Loss: 606.676941, Accuracy: 0.983400\n",
      "Step: 3100, Loss: 636.440735, Accuracy: 0.980800\n",
      "Step: 3150, Loss: 582.620239, Accuracy: 0.983400\n",
      "Step: 3200, Loss: 585.813843, Accuracy: 0.983300\n",
      "Step: 3250, Loss: 588.190125, Accuracy: 0.984300\n",
      "Step: 3300, Loss: 603.820801, Accuracy: 0.982600\n",
      "Step: 3350, Loss: 710.192627, Accuracy: 0.979700\n",
      "Step: 3400, Loss: 660.738892, Accuracy: 0.979000\n",
      "Step: 3450, Loss: 624.470764, Accuracy: 0.981300\n",
      "Step: 3500, Loss: 528.184875, Accuracy: 0.984400\n",
      "Step: 3550, Loss: 603.950745, Accuracy: 0.982500\n",
      "Step: 3600, Loss: 644.883911, Accuracy: 0.981600\n",
      "Step: 3650, Loss: 639.341187, Accuracy: 0.982200\n",
      "Step: 3700, Loss: 643.365295, Accuracy: 0.981900\n",
      "Step: 3750, Loss: 630.978394, Accuracy: 0.982200\n",
      "Step: 3800, Loss: 725.270996, Accuracy: 0.981000\n",
      "Step: 3850, Loss: 634.152649, Accuracy: 0.982000\n",
      "Step: 3900, Loss: 601.710510, Accuracy: 0.983200\n",
      "Step: 3950, Loss: 622.151123, Accuracy: 0.981800\n",
      "Step: 4000, Loss: 650.066833, Accuracy: 0.983700\n"
     ]
    }
   ],
   "source": [
    "cnn = SingleCNN(16, 1024)\n",
    "\n",
    "i = 0\n",
    "for _ in range(4000):\n",
    "    i += 1\n",
    "    batch_xs, batch_ts = mnist.train.next_batch(100)\n",
    "    cnn.sess.run(cnn.train_step, feed_dict={cnn.x:batch_xs, cnn.t:batch_ts})\n",
    "    if i % 50 == 0:\n",
    "        summary, loss_val, acc_val = cnn.sess.run(\n",
    "            [cnn.summary, cnn.loss, cnn.accuracy],\n",
    "            feed_dict={cnn.x:mnist.test.images, cnn.t:mnist.test.labels})\n",
    "        print ('Step: %d, Loss: %f, Accuracy: %f'\n",
    "               % (i, loss_val, acc_val))\n",
    "        cnn.writer.add_summary(summary, i)"
   ]
  }
 ],
 "metadata": {
  "kernelspec": {
   "display_name": "Python 3",
   "language": "python",
   "name": "python3"
  },
  "language_info": {
   "codemirror_mode": {
    "name": "ipython",
    "version": 3
   },
   "file_extension": ".py",
   "mimetype": "text/x-python",
   "name": "python",
   "nbconvert_exporter": "python",
   "pygments_lexer": "ipython3",
   "version": "3.6.2"
  }
 },
 "nbformat": 4,
 "nbformat_minor": 1
}
