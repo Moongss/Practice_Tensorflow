{
 "cells": [
  {
   "cell_type": "markdown",
   "metadata": {},
   "source": [
    "**[DNE-01]** 모듈을 임포트하고 난수의 시드를 설정한다."
   ]
  },
  {
   "cell_type": "code",
   "execution_count": 1,
   "metadata": {
    "collapsed": true
   },
   "outputs": [],
   "source": [
    "import tensorflow as tf\n",
    "import numpy as np\n",
    "import matplotlib.pyplot as plt\n",
    "from numpy.random import multivariate_normal, permutation\n",
    "import pandas as pd\n",
    "from pandas import DataFrame, Series\n",
    "\n",
    "np.random.seed(20160615)\n",
    "tf.set_random_seed(20160615)"
   ]
  },
  {
   "cell_type": "markdown",
   "metadata": {},
   "source": [
    "**[DNE-02]** 트레이닝 세트 데이터를 생성한다."
   ]
  },
  {
   "cell_type": "code",
   "execution_count": 2,
   "metadata": {
    "collapsed": true
   },
   "outputs": [],
   "source": [
    "def generate_datablock(n, mu, var, t):\n",
    "    data = multivariate_normal(mu, np.eye(2)*var, n)\n",
    "    df = DataFrame(data, columns=['x1','x2'])\n",
    "    df['t'] = t\n",
    "    return df\n",
    "\n",
    "df0 = generate_datablock(30, [-7,-7], 18, 1)\n",
    "df1 = generate_datablock(30, [-7,7], 18, 0)\n",
    "df2 = generate_datablock(30, [7,-7], 18, 0)\n",
    "df3 = generate_datablock(30, [7,7], 18, 1)\n",
    "\n",
    "df = pd.concat([df0, df1, df2, df3], ignore_index=True)\n",
    "train_set = df.reindex(permutation(df.index)).reset_index(drop=True)"
   ]
  },
  {
   "cell_type": "markdown",
   "metadata": {},
   "source": [
    "**[DNE-03]** (x1, x2)와 t를 각각 모은 것을 NumPy의 array 오브젝트로 추출해둔다."
   ]
  },
  {
   "cell_type": "code",
   "execution_count": 3,
   "metadata": {
    "collapsed": true
   },
   "outputs": [],
   "source": [
    "train_x = train_set[['x1','x2']].as_matrix()\n",
    "train_t = train_set['t'].as_matrix().reshape([len(train_set), 1])"
   ]
  },
  {
   "cell_type": "markdown",
   "metadata": {},
   "source": [
    "**[DNE-04]** 2계층 신경망을 이용한 이항 분류기 모델을 정의한다."
   ]
  },
  {
   "cell_type": "code",
   "execution_count": 4,
   "metadata": {
    "collapsed": true
   },
   "outputs": [],
   "source": [
    "num_units1 = 2\n",
    "num_units2 = 2\n",
    "\n",
    "x = tf.placeholder(tf.float32, [None, 2])\n",
    "\n",
    "w1 = tf.Variable(tf.truncated_normal([2, num_units1]))\n",
    "b1 = tf.Variable(tf.zeros([num_units1]))\n",
    "hidden1 = tf.nn.tanh(tf.matmul(x, w1) + b1)\n",
    "\n",
    "w2 = tf.Variable(tf.truncated_normal([num_units1, num_units2]))\n",
    "b2 = tf.Variable(tf.zeros([num_units2]))\n",
    "hidden2 = tf.nn.tanh(tf.matmul(hidden1, w2) + b2)\n",
    "\n",
    "w0 = tf.Variable(tf.zeros([num_units2, 1]))\n",
    "b0 = tf.Variable(tf.zeros([1]))\n",
    "p = tf.nn.sigmoid(tf.matmul(hidden2, w0) + b0)"
   ]
  },
  {
   "cell_type": "markdown",
   "metadata": {},
   "source": [
    "**[DNE-05]** 오차 함수 loss, 트레이닝 알고리즘 train_step, 정답률 accuracy를 정의한다."
   ]
  },
  {
   "cell_type": "code",
   "execution_count": 5,
   "metadata": {
    "collapsed": true
   },
   "outputs": [],
   "source": [
    "t = tf.placeholder(tf.float32, [None, 1])\n",
    "loss = -tf.reduce_sum(t*tf.log(p) + (1-t)*tf.log(1-p))\n",
    "train_step = tf.train.GradientDescentOptimizer(0.001).minimize(loss)\n",
    "correct_prediction = tf.equal(tf.sign(p-0.5), tf.sign(t-0.5))\n",
    "accuracy = tf.reduce_mean(tf.cast(correct_prediction, tf.float32))"
   ]
  },
  {
   "cell_type": "markdown",
   "metadata": {},
   "source": [
    "**[DNE-06]** 세션을 준비하고 Variable을 초기화한다."
   ]
  },
  {
   "cell_type": "code",
   "execution_count": 6,
   "metadata": {
    "collapsed": true
   },
   "outputs": [],
   "source": [
    "sess = tf.InteractiveSession()\n",
    "sess.run(tf.global_variables_initializer())"
   ]
  },
  {
   "cell_type": "markdown",
   "metadata": {},
   "source": [
    "**[DNE-07]** 파라미터 최적화를 2000회 반복한다."
   ]
  },
  {
   "cell_type": "code",
   "execution_count": 7,
   "metadata": {
    "scrolled": false
   },
   "outputs": [
    {
     "name": "stdout",
     "output_type": "stream",
     "text": [
      "Step: 100, Loss: 83.176933, Accuracy: 0.508333\n",
      "Step: 200, Loss: 83.176178, Accuracy: 0.508333\n",
      "Step: 300, Loss: 83.174591, Accuracy: 0.508333\n",
      "Step: 400, Loss: 83.171082, Accuracy: 0.500000\n",
      "Step: 500, Loss: 83.162636, Accuracy: 0.508333\n",
      "Step: 600, Loss: 83.140877, Accuracy: 0.516667\n",
      "Step: 700, Loss: 83.075996, Accuracy: 0.541667\n",
      "Step: 800, Loss: 82.822495, Accuracy: 0.541667\n",
      "Step: 900, Loss: 81.475693, Accuracy: 0.625000\n",
      "Step: 1000, Loss: 75.140419, Accuracy: 0.658333\n",
      "Step: 1100, Loss: 59.051060, Accuracy: 0.866667\n",
      "Step: 1200, Loss: 46.646378, Accuracy: 0.900000\n",
      "Step: 1300, Loss: 41.770844, Accuracy: 0.900000\n",
      "Step: 1400, Loss: 39.639244, Accuracy: 0.900000\n",
      "Step: 1500, Loss: 38.510742, Accuracy: 0.900000\n",
      "Step: 1600, Loss: 37.788445, Accuracy: 0.900000\n",
      "Step: 1700, Loss: 37.159111, Accuracy: 0.900000\n",
      "Step: 1800, Loss: 36.648502, Accuracy: 0.900000\n",
      "Step: 1900, Loss: 36.529396, Accuracy: 0.891667\n",
      "Step: 2000, Loss: 36.352604, Accuracy: 0.891667\n",
      "Step: 2100, Loss: 36.219803, Accuracy: 0.891667\n",
      "Step: 2200, Loss: 36.116493, Accuracy: 0.900000\n",
      "Step: 2300, Loss: 36.034439, Accuracy: 0.900000\n",
      "Step: 2400, Loss: 35.984722, Accuracy: 0.900000\n",
      "Step: 2500, Loss: 35.978447, Accuracy: 0.891667\n",
      "Step: 2600, Loss: 35.966343, Accuracy: 0.900000\n",
      "Step: 2700, Loss: 35.952618, Accuracy: 0.900000\n",
      "Step: 2800, Loss: 35.937481, Accuracy: 0.900000\n",
      "Step: 2900, Loss: 35.921120, Accuracy: 0.900000\n",
      "Step: 3000, Loss: 35.903786, Accuracy: 0.900000\n",
      "Step: 3100, Loss: 35.885742, Accuracy: 0.900000\n",
      "Step: 3200, Loss: 35.867237, Accuracy: 0.900000\n",
      "Step: 3300, Loss: 35.848503, Accuracy: 0.900000\n",
      "Step: 3400, Loss: 35.829720, Accuracy: 0.900000\n",
      "Step: 3500, Loss: 35.811035, Accuracy: 0.900000\n",
      "Step: 3600, Loss: 35.792545, Accuracy: 0.900000\n",
      "Step: 3700, Loss: 35.774330, Accuracy: 0.900000\n",
      "Step: 3800, Loss: 35.756413, Accuracy: 0.900000\n",
      "Step: 3900, Loss: 35.738815, Accuracy: 0.900000\n",
      "Step: 4000, Loss: 35.721535, Accuracy: 0.900000\n",
      "Step: 4100, Loss: 35.704552, Accuracy: 0.900000\n",
      "Step: 4200, Loss: 35.687828, Accuracy: 0.900000\n",
      "Step: 4300, Loss: 35.671337, Accuracy: 0.900000\n",
      "Step: 4400, Loss: 35.655029, Accuracy: 0.900000\n",
      "Step: 4500, Loss: 35.638855, Accuracy: 0.900000\n",
      "Step: 4600, Loss: 35.622772, Accuracy: 0.900000\n",
      "Step: 4700, Loss: 35.606747, Accuracy: 0.900000\n",
      "Step: 4800, Loss: 35.590717, Accuracy: 0.900000\n",
      "Step: 4900, Loss: 35.574665, Accuracy: 0.900000\n",
      "Step: 5000, Loss: 35.558559, Accuracy: 0.900000\n",
      "Step: 5100, Loss: 35.542469, Accuracy: 0.900000\n",
      "Step: 5200, Loss: 35.525246, Accuracy: 0.900000\n",
      "Step: 5300, Loss: 35.422005, Accuracy: 0.900000\n",
      "Step: 5400, Loss: 35.219719, Accuracy: 0.900000\n",
      "Step: 5500, Loss: 35.342323, Accuracy: 0.900000\n",
      "Step: 5600, Loss: 35.575085, Accuracy: 0.900000\n",
      "Step: 5700, Loss: 43.878922, Accuracy: 0.883333\n",
      "Step: 5800, Loss: 35.210373, Accuracy: 0.900000\n",
      "Step: 5900, Loss: 35.646935, Accuracy: 0.900000\n",
      "Step: 6000, Loss: 35.146896, Accuracy: 0.900000\n",
      "Step: 6100, Loss: 35.564541, Accuracy: 0.900000\n",
      "Step: 6200, Loss: 35.137070, Accuracy: 0.900000\n",
      "Step: 6300, Loss: 35.432472, Accuracy: 0.900000\n",
      "Step: 6400, Loss: 35.511707, Accuracy: 0.900000\n",
      "Step: 6500, Loss: 35.087692, Accuracy: 0.900000\n",
      "Step: 6600, Loss: 35.106102, Accuracy: 0.900000\n",
      "Step: 6700, Loss: 35.070648, Accuracy: 0.900000\n",
      "Step: 6800, Loss: 35.061378, Accuracy: 0.900000\n",
      "Step: 6900, Loss: 35.025379, Accuracy: 0.900000\n",
      "Step: 7000, Loss: 35.151005, Accuracy: 0.900000\n",
      "Step: 7100, Loss: 34.993820, Accuracy: 0.900000\n",
      "Step: 7200, Loss: 35.044258, Accuracy: 0.900000\n",
      "Step: 7300, Loss: 34.998005, Accuracy: 0.900000\n",
      "Step: 7400, Loss: 35.464874, Accuracy: 0.900000\n",
      "Step: 7500, Loss: 35.268837, Accuracy: 0.900000\n",
      "Step: 7600, Loss: 35.408539, Accuracy: 0.900000\n",
      "Step: 7700, Loss: 35.119774, Accuracy: 0.900000\n",
      "Step: 7800, Loss: 34.975098, Accuracy: 0.900000\n",
      "Step: 7900, Loss: 34.958771, Accuracy: 0.900000\n",
      "Step: 8000, Loss: 34.928917, Accuracy: 0.900000\n",
      "Step: 8100, Loss: 34.928268, Accuracy: 0.900000\n",
      "Step: 8200, Loss: 34.919434, Accuracy: 0.900000\n",
      "Step: 8300, Loss: 34.956184, Accuracy: 0.900000\n",
      "Step: 8400, Loss: 34.924133, Accuracy: 0.900000\n",
      "Step: 8500, Loss: 34.902813, Accuracy: 0.900000\n",
      "Step: 8600, Loss: 34.931946, Accuracy: 0.900000\n",
      "Step: 8700, Loss: 50.249397, Accuracy: 0.850000\n",
      "Step: 8800, Loss: 34.862438, Accuracy: 0.900000\n",
      "Step: 8900, Loss: 34.921894, Accuracy: 0.900000\n",
      "Step: 9000, Loss: 34.843933, Accuracy: 0.900000\n",
      "Step: 9100, Loss: 34.845001, Accuracy: 0.900000\n",
      "Step: 9200, Loss: 34.838005, Accuracy: 0.900000\n",
      "Step: 9300, Loss: 34.814621, Accuracy: 0.900000\n",
      "Step: 9400, Loss: 34.917000, Accuracy: 0.900000\n",
      "Step: 9500, Loss: 34.784172, Accuracy: 0.900000\n",
      "Step: 9600, Loss: 34.796562, Accuracy: 0.900000\n",
      "Step: 9700, Loss: 34.761719, Accuracy: 0.900000\n",
      "Step: 9800, Loss: 34.757233, Accuracy: 0.900000\n",
      "Step: 9900, Loss: 34.748039, Accuracy: 0.900000\n",
      "Step: 10000, Loss: 34.738792, Accuracy: 0.908333\n"
     ]
    }
   ],
   "source": [
    "i = 0\n",
    "for _ in range(10000):\n",
    "    i += 1\n",
    "    sess.run(train_step, feed_dict={x:train_x, t:train_t})\n",
    "    if i % 100 == 0:\n",
    "        loss_val, acc_val = sess.run(\n",
    "            [loss, accuracy], feed_dict={x:train_x, t:train_t})\n",
    "        print ('Step: %d, Loss: %f, Accuracy: %f'\n",
    "               % (i, loss_val, acc_val))"
   ]
  },
  {
   "cell_type": "markdown",
   "metadata": {},
   "source": [
    "**[DNE-08]** 얻어진 확률을 색의 농담으로 그림에 표시한다."
   ]
  },
  {
   "cell_type": "code",
   "execution_count": 8,
   "metadata": {},
   "outputs": [
    {
     "data": {
      "image/png": "[encoded data removed]",
      "text/plain": [
       "<matplotlib.figure.Figure at 0x121a42e80>"
      ]
     },
     "metadata": {},
     "output_type": "display_data"
    }
   ],
   "source": [
    "train_set1 = train_set[train_set['t']==1]\n",
    "train_set2 = train_set[train_set['t']==0]\n",
    "\n",
    "fig = plt.figure(figsize=(6,6))\n",
    "subplot = fig.add_subplot(1,1,1)\n",
    "subplot.set_ylim([-15,15])\n",
    "subplot.set_xlim([-15,15])\n",
    "subplot.scatter(train_set1.x1, train_set1.x2, marker='o')\n",
    "subplot.scatter(train_set2.x1, train_set2.x2, marker='o')\n",
    "\n",
    "locations = []\n",
    "for x2 in np.linspace(-15,15,100):\n",
    "    for x1 in np.linspace(-15,15,100):\n",
    "        locations.append((x1,x2))\n",
    "p_vals = sess.run(p, feed_dict={x:locations})\n",
    "p_vals = p_vals.reshape((100,100))\n",
    "subplot.imshow(p_vals, origin='lower', extent=(-15,15,-15,15),\n",
    "               cmap=plt.cm.gray_r, alpha=0.5)\n",
    "plt.show()"
   ]
  }
 ],
 "metadata": {
  "kernelspec": {
   "display_name": "Python 3",
   "language": "python",
   "name": "python3"
  },
  "language_info": {
   "codemirror_mode": {
    "name": "ipython",
    "version": 3
   },
   "file_extension": ".py",
   "mimetype": "text/x-python",
   "name": "python",
   "nbconvert_exporter": "python",
   "pygments_lexer": "ipython3",
   "version": "3.6.2"
  }
 },
 "nbformat": 4,
 "nbformat_minor": 1
}
