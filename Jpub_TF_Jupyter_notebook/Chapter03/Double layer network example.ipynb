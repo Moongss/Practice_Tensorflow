{
 "cells": [
  {
   "cell_type": "markdown",
   "metadata": {},
   "source": [
    "**[DNE-01]** 모듈을 임포트하고 난수의 시드를 설정한다."
   ]
  },
  {
   "cell_type": "code",
   "execution_count": 1,
   "metadata": {
    "collapsed": true
   },
   "outputs": [],
   "source": [
    "import tensorflow as tf\n",
    "import numpy as np\n",
    "import matplotlib.pyplot as plt\n",
    "from numpy.random import multivariate_normal, permutation\n",
    "import pandas as pd\n",
    "from pandas import DataFrame, Series\n",
    "\n",
    "np.random.seed(20160615)\n",
    "tf.set_random_seed(20160615)"
   ]
  },
  {
   "cell_type": "markdown",
   "metadata": {},
   "source": [
    "**[DNE-02]** 트레이닝 세트 데이터를 생성한다."
   ]
  },
  {
   "cell_type": "code",
   "execution_count": 5,
   "metadata": {},
   "outputs": [],
   "source": [
    "def generate_datablock(n, mu, var, t):\n",
    "    data = multivariate_normal(mu, np.eye(2)*var, n)\n",
    "    df = DataFrame(data, columns=['x1','x2'])\n",
    "    df['t'] = t\n",
    "    return df\n",
    "\n",
    "df0 = generate_datablock(30, [-7,-7], 18, 1)\n",
    "df1 = generate_datablock(30, [-7,7], 18, 0)\n",
    "df2 = generate_datablock(30, [7,-7], 18, 0)\n",
    "df3 = generate_datablock(30, [7,7], 18, 1)\n",
    "\n",
    "df = pd.concat([df0, df1, df2, df3], ignore_index=True)\n",
    "train_set = df.reindex(permutation(df.index)).reset_index(drop=True)"
   ]
  },
  {
   "cell_type": "markdown",
   "metadata": {},
   "source": [
    "**[DNE-03]** (x1, x2)와 t를 각각 모은 것을 NumPy의 array 오브젝트로 추출해둔다."
   ]
  },
  {
   "cell_type": "code",
   "execution_count": 6,
   "metadata": {
    "collapsed": true
   },
   "outputs": [],
   "source": [
    "train_x = train_set[['x1','x2']].as_matrix()\n",
    "train_t = train_set['t'].as_matrix().reshape([len(train_set), 1])"
   ]
  },
  {
   "cell_type": "markdown",
   "metadata": {},
   "source": [
    "**[DNE-04]** 2계층 신경망을 이용한 이항 분류기 모델을 정의한다."
   ]
  },
  {
   "cell_type": "code",
   "execution_count": 7,
   "metadata": {},
   "outputs": [],
   "source": [
    "num_units1 = 2\n",
    "num_units2 = 2\n",
    "\n",
    "x = tf.placeholder(tf.float32, [None, 2])\n",
    "\n",
    "w1 = tf.Variable(tf.truncated_normal([2, num_units1]))\n",
    "b1 = tf.Variable(tf.zeros([num_units1]))\n",
    "hidden1 = tf.nn.tanh(tf.matmul(x, w1) + b1)\n",
    "\n",
    "w2 = tf.Variable(tf.truncated_normal([num_units1, num_units2]))\n",
    "b2 = tf.Variable(tf.zeros([num_units2]))\n",
    "hidden2 = tf.nn.tanh(tf.matmul(hidden1, w2) + b2)\n",
    "\n",
    "w0 = tf.Variable(tf.zeros([num_units2, 1]))\n",
    "b0 = tf.Variable(tf.zeros([1]))\n",
    "p = tf.nn.sigmoid(tf.matmul(hidden2, w0) + b0)"
   ]
  },
  {
   "cell_type": "markdown",
   "metadata": {},
   "source": [
    "**[DNE-05]** 오차 함수 loss, 트레이닝 알고리즘 train_step, 정답률 accuracy를 정의한다."
   ]
  },
  {
   "cell_type": "code",
   "execution_count": 27,
   "metadata": {
    "collapsed": true
   },
   "outputs": [],
   "source": [
    "t = tf.placeholder(tf.float32, [None, 1])\n",
    "loss = -tf.reduce_sum(t*tf.log(p) + (1-t)*tf.log(1-p))\n",
    "train_step = tf.train.GradientDescentOptimizer(0.001).minimize(loss)\n",
    "correct_prediction = tf.equal(tf.sign(p-0.5), tf.sign(t-0.5))\n",
    "accuracy = tf.reduce_mean(tf.cast(correct_prediction, tf.float32))"
   ]
  },
  {
   "cell_type": "markdown",
   "metadata": {},
   "source": [
    "**[DNE-06]** 세션을 준비하고 Variable을 초기화한다."
   ]
  },
  {
   "cell_type": "code",
   "execution_count": 28,
   "metadata": {},
   "outputs": [],
   "source": [
    "sess = tf.InteractiveSession()\n",
    "sess.run(tf.global_variables_initializer())"
   ]
  },
  {
   "cell_type": "markdown",
   "metadata": {},
   "source": [
    "**[DNE-07]** 파라미터 최적화를 2000회 반복한다."
   ]
  },
  {
   "cell_type": "code",
   "execution_count": 31,
   "metadata": {
    "scrolled": false
   },
   "outputs": [
    {
     "name": "stdout",
     "output_type": "stream",
     "text": [
      "Step: 100, Loss: 25.990574, Accuracy: 0.941667\n",
      "Step: 200, Loss: 25.962786, Accuracy: 0.941667\n",
      "Step: 300, Loss: 25.934349, Accuracy: 0.941667\n",
      "Step: 400, Loss: 25.905025, Accuracy: 0.941667\n",
      "Step: 500, Loss: 25.874613, Accuracy: 0.941667\n",
      "Step: 600, Loss: 25.842960, Accuracy: 0.941667\n",
      "Step: 700, Loss: 25.809998, Accuracy: 0.941667\n",
      "Step: 800, Loss: 25.775757, Accuracy: 0.941667\n",
      "Step: 900, Loss: 25.740330, Accuracy: 0.941667\n",
      "Step: 1000, Loss: 25.703924, Accuracy: 0.941667\n",
      "Step: 1100, Loss: 25.666792, Accuracy: 0.941667\n",
      "Step: 1200, Loss: 25.629227, Accuracy: 0.941667\n",
      "Step: 1300, Loss: 25.591932, Accuracy: 0.941667\n",
      "Step: 1400, Loss: 25.799301, Accuracy: 0.941667\n",
      "Step: 1500, Loss: 25.747776, Accuracy: 0.941667\n",
      "Step: 1600, Loss: 25.709555, Accuracy: 0.941667\n",
      "Step: 1700, Loss: 25.678093, Accuracy: 0.941667\n",
      "Step: 1800, Loss: 25.648722, Accuracy: 0.941667\n",
      "Step: 1900, Loss: 25.619980, Accuracy: 0.941667\n",
      "Step: 2000, Loss: 25.591402, Accuracy: 0.941667\n",
      "Step: 2100, Loss: 25.562870, Accuracy: 0.941667\n",
      "Step: 2200, Loss: 25.534414, Accuracy: 0.941667\n",
      "Step: 2300, Loss: 25.506123, Accuracy: 0.941667\n",
      "Step: 2400, Loss: 25.478065, Accuracy: 0.941667\n",
      "Step: 2500, Loss: 25.450327, Accuracy: 0.941667\n",
      "Step: 2600, Loss: 25.422989, Accuracy: 0.941667\n",
      "Step: 2700, Loss: 25.396103, Accuracy: 0.941667\n",
      "Step: 2800, Loss: 25.369713, Accuracy: 0.941667\n",
      "Step: 2900, Loss: 25.343853, Accuracy: 0.941667\n",
      "Step: 3000, Loss: 25.318550, Accuracy: 0.941667\n",
      "Step: 3100, Loss: 25.293804, Accuracy: 0.941667\n",
      "Step: 3200, Loss: 25.269630, Accuracy: 0.941667\n",
      "Step: 3300, Loss: 25.246014, Accuracy: 0.941667\n",
      "Step: 3400, Loss: 25.222946, Accuracy: 0.941667\n",
      "Step: 3500, Loss: 25.200417, Accuracy: 0.941667\n",
      "Step: 3600, Loss: 25.178402, Accuracy: 0.941667\n",
      "Step: 3700, Loss: 25.156883, Accuracy: 0.941667\n",
      "Step: 3800, Loss: 25.135834, Accuracy: 0.941667\n",
      "Step: 3900, Loss: 25.115238, Accuracy: 0.941667\n",
      "Step: 4000, Loss: 25.095074, Accuracy: 0.941667\n",
      "Step: 4100, Loss: 25.075302, Accuracy: 0.941667\n",
      "Step: 4200, Loss: 25.055908, Accuracy: 0.941667\n",
      "Step: 4300, Loss: 25.036871, Accuracy: 0.941667\n",
      "Step: 4400, Loss: 25.018166, Accuracy: 0.941667\n",
      "Step: 4500, Loss: 24.999775, Accuracy: 0.941667\n",
      "Step: 4600, Loss: 24.981674, Accuracy: 0.941667\n",
      "Step: 4700, Loss: 24.963858, Accuracy: 0.941667\n",
      "Step: 4800, Loss: 24.946291, Accuracy: 0.941667\n",
      "Step: 4900, Loss: 24.928980, Accuracy: 0.941667\n",
      "Step: 5000, Loss: 24.911903, Accuracy: 0.941667\n",
      "Step: 5100, Loss: 24.895041, Accuracy: 0.941667\n",
      "Step: 5200, Loss: 24.878395, Accuracy: 0.941667\n",
      "Step: 5300, Loss: 24.861954, Accuracy: 0.941667\n",
      "Step: 5400, Loss: 24.845699, Accuracy: 0.941667\n",
      "Step: 5500, Loss: 24.829630, Accuracy: 0.941667\n",
      "Step: 5600, Loss: 24.813747, Accuracy: 0.941667\n",
      "Step: 5700, Loss: 24.798042, Accuracy: 0.941667\n",
      "Step: 5800, Loss: 24.782505, Accuracy: 0.941667\n",
      "Step: 5900, Loss: 24.767143, Accuracy: 0.941667\n",
      "Step: 6000, Loss: 24.751944, Accuracy: 0.941667\n",
      "Step: 6100, Loss: 24.736914, Accuracy: 0.941667\n",
      "Step: 6200, Loss: 24.722036, Accuracy: 0.941667\n",
      "Step: 6300, Loss: 24.707331, Accuracy: 0.941667\n",
      "Step: 6400, Loss: 24.692783, Accuracy: 0.941667\n",
      "Step: 6500, Loss: 24.678400, Accuracy: 0.941667\n",
      "Step: 6600, Loss: 24.664318, Accuracy: 0.941667\n",
      "Step: 6700, Loss: 24.700382, Accuracy: 0.941667\n",
      "Step: 6800, Loss: 24.700653, Accuracy: 0.941667\n",
      "Step: 6900, Loss: 24.692825, Accuracy: 0.941667\n",
      "Step: 7000, Loss: 24.683704, Accuracy: 0.941667\n",
      "Step: 7100, Loss: 24.673681, Accuracy: 0.941667\n",
      "Step: 7200, Loss: 24.662994, Accuracy: 0.941667\n",
      "Step: 7300, Loss: 24.651802, Accuracy: 0.941667\n",
      "Step: 7400, Loss: 24.640221, Accuracy: 0.941667\n",
      "Step: 7500, Loss: 24.628159, Accuracy: 0.941667\n",
      "Step: 7600, Loss: 24.645683, Accuracy: 0.941667\n",
      "Step: 7700, Loss: 24.554699, Accuracy: 0.941667\n",
      "Step: 7800, Loss: 24.596041, Accuracy: 0.941667\n",
      "Step: 7900, Loss: 24.559526, Accuracy: 0.941667\n",
      "Step: 8000, Loss: 24.488304, Accuracy: 0.941667\n",
      "Step: 8100, Loss: 24.470882, Accuracy: 0.941667\n",
      "Step: 8200, Loss: 24.504812, Accuracy: 0.941667\n",
      "Step: 8300, Loss: 24.518080, Accuracy: 0.941667\n",
      "Step: 8400, Loss: 24.516460, Accuracy: 0.941667\n",
      "Step: 8500, Loss: 24.469257, Accuracy: 0.941667\n",
      "Step: 8600, Loss: 24.298664, Accuracy: 0.941667\n",
      "Step: 8700, Loss: 24.277346, Accuracy: 0.941667\n",
      "Step: 8800, Loss: 24.247829, Accuracy: 0.941667\n",
      "Step: 8900, Loss: 24.542915, Accuracy: 0.941667\n",
      "Step: 9000, Loss: 24.341465, Accuracy: 0.933333\n",
      "Step: 9100, Loss: 24.360023, Accuracy: 0.941667\n",
      "Step: 9200, Loss: 24.211151, Accuracy: 0.941667\n",
      "Step: 9300, Loss: 24.194557, Accuracy: 0.941667\n",
      "Step: 9400, Loss: 24.198685, Accuracy: 0.933333\n",
      "Step: 9500, Loss: 24.224577, Accuracy: 0.933333\n",
      "Step: 9600, Loss: 24.773705, Accuracy: 0.941667\n",
      "Step: 9700, Loss: 24.512636, Accuracy: 0.941667\n",
      "Step: 9800, Loss: 24.389099, Accuracy: 0.941667\n",
      "Step: 9900, Loss: 25.411505, Accuracy: 0.941667\n",
      "Step: 10000, Loss: 25.222515, Accuracy: 0.941667\n"
     ]
    }
   ],
   "source": [
    "i = 0\n",
    "for _ in range(10000):\n",
    "    i += 1\n",
    "    sess.run(train_step, feed_dict={x:train_x, t:train_t})\n",
    "    if i % 100 == 0:\n",
    "        loss_val, acc_val = sess.run(\n",
    "            [loss, accuracy], feed_dict={x:train_x, t:train_t})\n",
    "        print ('Step: %d, Loss: %f, Accuracy: %f'\n",
    "               % (i, loss_val, acc_val))"
   ]
  },
  {
   "cell_type": "markdown",
   "metadata": {},
   "source": [
    "**[DNE-08]** 얻어진 확률을 색의 농담으로 그림에 표시한다."
   ]
  },
  {
   "cell_type": "code",
   "execution_count": 32,
   "metadata": {},
   "outputs": [
    {
     "data": {
      "image/png": "[encoded data removed]",
      "text/plain": [
       "<matplotlib.figure.Figure at 0x1189fb908>"
      ]
     },
     "metadata": {},
     "output_type": "display_data"
    }
   ],
   "source": [
    "train_set1 = train_set[train_set['t']==1]\n",
    "train_set2 = train_set[train_set['t']==0]\n",
    "\n",
    "fig = plt.figure(figsize=(6,6))\n",
    "subplot = fig.add_subplot(1,1,1)\n",
    "subplot.set_ylim([-15,15])\n",
    "subplot.set_xlim([-15,15])\n",
    "subplot.scatter(train_set1.x1, train_set1.x2, marker='o')\n",
    "subplot.scatter(train_set2.x1, train_set2.x2, marker='o')\n",
    "\n",
    "locations = []\n",
    "for x2 in np.linspace(-15,15,100):\n",
    "    for x1 in np.linspace(-15,15,100):\n",
    "        locations.append((x1,x2))\n",
    "p_vals = sess.run(p, feed_dict={x:locations})\n",
    "p_vals = p_vals.reshape((100,100))\n",
    "subplot.imshow(p_vals, origin='lower', extent=(-15,15,-15,15),\n",
    "               cmap=plt.cm.gray_r, alpha=0.5)\n",
    "plt.show()"
   ]
  }
 ],
 "metadata": {
  "kernelspec": {
   "display_name": "Python 3",
   "language": "python",
   "name": "python3"
  },
  "language_info": {
   "codemirror_mode": {
    "name": "ipython",
    "version": 3
   },
   "file_extension": ".py",
   "mimetype": "text/x-python",
   "name": "python",
   "nbconvert_exporter": "python",
   "pygments_lexer": "ipython3",
   "version": "3.6.2"
  }
 },
 "nbformat": 4,
 "nbformat_minor": 1
}
