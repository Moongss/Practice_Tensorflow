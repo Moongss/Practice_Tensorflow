{
 "cells": [
  {
   "cell_type": "code",
   "execution_count": 28,
   "metadata": {},
   "outputs": [
    {
     "name": "stdout",
     "output_type": "stream",
     "text": [
      "Extracting MNIST_data/train-images-idx3-ubyte.gz\n",
      "Extracting MNIST_data/train-labels-idx1-ubyte.gz\n",
      "Extracting MNIST_data/t10k-images-idx3-ubyte.gz\n",
      "Extracting MNIST_data/t10k-labels-idx1-ubyte.gz\n"
     ]
    }
   ],
   "source": [
    "import tensorflow as tf\n",
    "#'tf.reset.default_graph()' to fix error use Xavier_initializer()\n",
    "tf.reset_default_graph()\n",
    "import random\n",
    "from tensorflow.examples.tutorials.mnist import input_data\n",
    "\n",
    "tf.set_random_seed(777)\n",
    "mnist = input_data.read_data_sets(\"MNIST_data/\", one_hot = True)"
   ]
  },
  {
   "cell_type": "code",
   "execution_count": 29,
   "metadata": {
    "collapsed": true
   },
   "outputs": [],
   "source": [
    "learning_rate = 0.001\n",
    "epochs = 20\n",
    "batch = 100"
   ]
  },
  {
   "cell_type": "code",
   "execution_count": 30,
   "metadata": {
    "collapsed": true
   },
   "outputs": [],
   "source": [
    "#Use Dropout = keep_prob, not max train(?)\n",
    "keep_prob = tf.placeholder(tf.float32)"
   ]
  },
  {
   "cell_type": "code",
   "execution_count": 31,
   "metadata": {
    "collapsed": true
   },
   "outputs": [],
   "source": [
    "X = tf.placeholder(tf.float32, [None, 784])\n",
    "X_img = tf.reshape(X, [-1, 28, 28, 1]) #28*28*1, -1 means anything.\n",
    "Y = tf.placeholder(tf.float32, [None, 10])"
   ]
  },
  {
   "cell_type": "code",
   "execution_count": 32,
   "metadata": {},
   "outputs": [],
   "source": [
    "#filter 3 by 3, color = 1, number_of_filter = 32\n",
    "W1 = tf.Variable(tf.random_normal([3,3,1,32], stddev = 0.01)) \n",
    "\n",
    "#padding = 'SAME' means, stride 1, Regardless of Weight_Size, output of L1 as same as input_image_size\n",
    "#conv2d   -> (?, 28, 28, 32)\n",
    "#max_pool -> (?, 14, 14, 32)\n",
    "L1 = tf.nn.conv2d(X_img, W1, strides=[1,1,1,1], padding='SAME')\n",
    "L1 = tf.nn.relu(L1)\n",
    "L1 = tf.nn.max_pool(L1, ksize=[1,2,2,1], strides=[1,2,2,1], padding='SAME')\n",
    "\n",
    "#filter2 same as Input_size(32), filter2_size = 64\n",
    "#Reshape : Unfold L2 to FC\n",
    "W2 = tf.Variable(tf.random_normal([3,3,32,64], stddev = 0.01))\n",
    "L2 = tf.nn.conv2d(L1, W2, strides=[1,1,1,1], padding = 'SAME')\n",
    "L2 = tf.nn.relu(L2)\n",
    "L2 = tf.nn.max_pool(L2, ksize=[1,2,2,1], strides=[1,2,2,1], padding='SAME')\n",
    "L2 = tf.reshape(L2, [-1, 7*7*64])\n",
    "\n",
    "#FC input(3136 = 7*7*64) -> 10 outputs\n",
    "#Use Xavier_initializer\n",
    "W3 = tf.get_variable(\"W3\", shape=[7*7*64, 10],\n",
    "                     initializer=tf.contrib.layers.xavier_initializer())\n",
    "b = tf.Variable(tf.random_normal([10]))\n",
    "hypothesis = tf.matmul(L2,W3)+b\n",
    "\n",
    "#Use Adamoptimizer (instead GradientDescentOptimizer)\n",
    "cost = tf.reduce_mean(tf.nn.softmax_cross_entropy_with_logits(logits=hypothesis, labels=Y))\n",
    "optimizer = tf.train.AdamOptimizer(learning_rate=learning_rate).minimize(cost)"
   ]
  },
  {
   "cell_type": "code",
   "execution_count": 33,
   "metadata": {},
   "outputs": [
    {
     "name": "stdout",
     "output_type": "stream",
     "text": [
      "Start Learning\n",
      "Epoch:0001 Cost =  0.361479089\n",
      "Epoch:0002 Cost =  0.093500431\n",
      "Epoch:0003 Cost =  0.067787592\n",
      "Epoch:0004 Cost =  0.056125973\n",
      "Epoch:0005 Cost =  0.047706391\n",
      "Epoch:0006 Cost =  0.041562431\n",
      "Epoch:0007 Cost =  0.035755749\n",
      "Epoch:0008 Cost =  0.030990488\n",
      "Epoch:0009 Cost =  0.027794329\n",
      "Epoch:0010 Cost =  0.025630914\n",
      "Epoch:0011 Cost =  0.022249624\n",
      "Epoch:0012 Cost =  0.019832688\n",
      "Epoch:0013 Cost =  0.016631698\n",
      "Epoch:0014 Cost =  0.015857259\n",
      "Epoch:0015 Cost =  0.013306068\n",
      "Epoch:0016 Cost =  0.012922972\n",
      "Epoch:0017 Cost =  0.010538649\n",
      "Epoch:0018 Cost =  0.008633421\n",
      "Epoch:0019 Cost =  0.009345217\n",
      "Epoch:0020 Cost =  0.008696372\n",
      "Finish Learning\n"
     ]
    }
   ],
   "source": [
    "sess = tf.Session()\n",
    "sess.run(tf.global_variables_initializer())\n",
    "\n",
    "print('Start Learning')\n",
    "for epoch in range(epochs):\n",
    "    avg_cost = 0\n",
    "    total_batch = int(mnist.train.num_examples / batch)\n",
    "    for i in range(total_batch):\n",
    "        batch_xs, batch_ys = mnist.train.next_batch(batch)\n",
    "        feed_dict = {X: batch_xs, Y: batch_ys}\n",
    "        #save cost value in 'c'\n",
    "        c, _, = sess.run([cost, optimizer], feed_dict = feed_dict)\n",
    "        avg_cost += c / total_batch\n",
    "    print('Epoch:' '%04d' %(epoch + 1), 'Cost = ', '{:.9f}'.format(avg_cost))\n",
    "print('Finish Learning')\n",
    "\n",
    "'''\n",
    "Start Learning\n",
    "Epoch:0001 Cost =  0.361479089\n",
    "Epoch:0002 Cost =  0.093500431\n",
    "Epoch:0003 Cost =  0.067787592\n",
    "Epoch:0004 Cost =  0.056125973\n",
    "Epoch:0005 Cost =  0.047706391\n",
    "Epoch:0006 Cost =  0.041562431\n",
    "Epoch:0007 Cost =  0.035755749\n",
    "Epoch:0008 Cost =  0.030990488\n",
    "Epoch:0009 Cost =  0.027794329\n",
    "Epoch:0010 Cost =  0.025630914\n",
    "Epoch:0011 Cost =  0.022249624\n",
    "Epoch:0012 Cost =  0.019832688\n",
    "Epoch:0013 Cost =  0.016631698\n",
    "Epoch:0014 Cost =  0.015857259\n",
    "Epoch:0015 Cost =  0.013306068\n",
    "Epoch:0016 Cost =  0.012922972\n",
    "Epoch:0017 Cost =  0.010538649\n",
    "Epoch:0018 Cost =  0.008633421\n",
    "Epoch:0019 Cost =  0.009345217\n",
    "Epoch:0020 Cost =  0.008696372\n",
    "Finish Learning\n",
    "'''"
   ]
  },
  {
   "cell_type": "code",
   "execution_count": 34,
   "metadata": {},
   "outputs": [
    {
     "name": "stdout",
     "output_type": "stream",
     "text": [
      "Accuracy: 0.9873\n"
     ]
    }
   ],
   "source": [
    "#big Y & hypothesis, and use tf.equal\n",
    "#accuracy : Average of correct_prediction\n",
    "correct_prediction = tf.equal(tf.argmax(hypothesis, 1), tf.argmax(Y, 1))\n",
    "accuracy = tf.reduce_mean(tf.cast(correct_prediction, tf.float32))\n",
    "print('Accuracy:', sess.run(accuracy, feed_dict={X: mnist.test.images, Y: mnist.test.labels}))\n",
    "\n",
    "#Accuracy: 0.9873, epoch=20, batch_size=100"
   ]
  }
 ],
 "metadata": {
  "kernelspec": {
   "display_name": "Python 3",
   "language": "python",
   "name": "python3"
  },
  "language_info": {
   "codemirror_mode": {
    "name": "ipython",
    "version": 3
   },
   "file_extension": ".py",
   "mimetype": "text/x-python",
   "name": "python",
   "nbconvert_exporter": "python",
   "pygments_lexer": "ipython3",
   "version": "3.6.2"
  }
 },
 "nbformat": 4,
 "nbformat_minor": 2
}
